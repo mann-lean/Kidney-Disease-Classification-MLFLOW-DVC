{
 "cells": [
  {
   "cell_type": "code",
   "execution_count": 1,
   "id": "0b993397",
   "metadata": {},
   "outputs": [],
   "source": [
    "import os"
   ]
  },
  {
   "cell_type": "code",
   "execution_count": 2,
   "id": "a4851684",
   "metadata": {},
   "outputs": [
    {
     "data": {
      "text/plain": [
       "'e:\\\\Immediate watch\\\\September\\\\end to end DEEP learning Kindey project\\\\CodeME\\\\Kidney-Disease-Classification-MLFLOW-DVC\\\\research'"
      ]
     },
     "execution_count": 2,
     "metadata": {},
     "output_type": "execute_result"
    }
   ],
   "source": [
    "%pwd"
   ]
  },
  {
   "cell_type": "code",
   "execution_count": 3,
   "id": "6530ce41",
   "metadata": {},
   "outputs": [],
   "source": [
    "os.chdir(\"../\")"
   ]
  },
  {
   "cell_type": "code",
   "execution_count": 4,
   "id": "4d995906",
   "metadata": {},
   "outputs": [
    {
     "data": {
      "text/plain": [
       "'e:\\\\Immediate watch\\\\September\\\\end to end DEEP learning Kindey project\\\\CodeME\\\\Kidney-Disease-Classification-MLFLOW-DVC'"
      ]
     },
     "execution_count": 4,
     "metadata": {},
     "output_type": "execute_result"
    }
   ],
   "source": [
    "%pwd"
   ]
  },
  {
   "cell_type": "code",
   "execution_count": 10,
   "id": "a70ef2eb",
   "metadata": {},
   "outputs": [],
   "source": [
    "from dataclasses import dataclass\n",
    "from pathlib import Path\n",
    " \n",
    "#  ENTITY\n",
    "@dataclass(frozen=True)\n",
    "class TrainingConfig:\n",
    "    root_dir: Path\n",
    "    trained_model_path: Path\n",
    "    updated_base_model_path: Path\n",
    "    training_data: Path\n",
    "    params_epochs: int\n",
    "    params_batch_size: int\n",
    "    params_is_augmentation: bool\n",
    "    params_image_size: list"
   ]
  },
  {
   "cell_type": "code",
   "execution_count": 11,
   "id": "590113f3",
   "metadata": {},
   "outputs": [],
   "source": [
    "from cnnClassifier.constants import *\n",
    "from cnnClassifier.utils.common import read_yaml,create_directories\n",
    "import tensorflow as tf"
   ]
  },
  {
   "cell_type": "code",
   "execution_count": null,
   "id": "9612649d",
   "metadata": {},
   "outputs": [],
   "source": [
    "class ConfigurationManager:\n",
    "    def __init__(\n",
    "            self,\n",
    "            config_filepath=CONFIG_FILE_PATH,\n",
    "            params_filepath=PARAMS_FILE_PATH\n",
    "    ):\n",
    "        self.config = read_yaml(config_filepath)\n",
    "        self.params = read_yaml(params_filepath)\n",
    "\n",
    "        create_directories([self.config.artifacts_root])\n",
    "\n",
    "    def get_training_config(self)->TrainingConfig: #get_training_config is used to get the training configuration\n",
    "        training=self.config.training\n",
    "        prepare_base_model=self.config.prepare_base_model\n",
    "        params=self.params\n",
    "        training_data=os.path.join(self.config.data_ingestion.unzip_dir,\"kidney-ct-scan-image\")\n",
    "        create_directories([Path(training.root_dir)])\n",
    "\n",
    "        training_config=TrainingConfig(\n",
    "            root_dir=Path(training.root_dir),\n",
    "            trained_model_path=Path(training.root_dir),\n",
    "            updated_base_model_path=Path(prepare_base_model.updated_base_model_path),\n",
    "            training_data=Path(training_data),\n",
    "            params_epochs=params.EPOCHS,\n",
    "            params_batch_size=params.BATCH_SIZE,\n",
    "            params_is_augmentation=params.AUGMENTATION,\n",
    "            params_image_size=params.IMAGE_SIZE\n",
    "        )\n",
    "        return training_config"
   ]
  },
  {
   "cell_type": "code",
   "execution_count": 26,
   "id": "8c17206f",
   "metadata": {},
   "outputs": [],
   "source": [
    "import os\n",
    "import urllib.request as request\n",
    "from zipfile import ZipFile\n",
    "import tensorflow as tf\n",
    "import time"
   ]
  },
  {
   "cell_type": "code",
   "execution_count": null,
   "id": "0684f1a7",
   "metadata": {},
   "outputs": [],
   "source": [
    "class Training:\n",
    "    def __init__(self, config: TrainingConfig):\n",
    "        self.config = config\n",
    "\n",
    "    \n",
    "    def get_base_model(self):\n",
    "        self.model = tf.keras.models.load_model(\n",
    "            self.config.updated_base_model_path\n",
    "        )\n",
    "\n",
    "    def train_valid_generator(self): #it is used to generate more images from the existing images\n",
    "         #datagenerator is used to generate more images from the existing images\n",
    "\n",
    "        datagenerator_kwargs = dict(\n",
    "            rescale = 1./255 #images  are taken in range of 0-255 ,so we are rescaling it to 0-1\n",
    "            ,validation_split=0.20 #20% of data is used for validation\n",
    "        )\n",
    "\n",
    "        dataflow_kwargs = dict(\n",
    "            target_size=self.config.params_image_size[:-1],#(224,224) image size ,except the channel\n",
    "            batch_size=self.config.params_batch_size,# 16 images are taken at a time (spechify batch)\n",
    "            interpolation=\"bilinear\" # resize the image\n",
    "        ) #it is used to load the data from the directory in this conditions\n",
    "\n",
    "        valid_datagenerator = tf.keras.preprocessing.image.ImageDataGenerator(\n",
    "            **datagenerator_kwargs#Unpacking the dictionary ,cuz helpful when dealing with a large number of parameters.We don't need to write each parameter\n",
    "        )  #image data generator is used to generate more images from the existing images\n",
    "\n",
    "        self.valid_generator = valid_datagenerator.flow_from_directory(  #, flow_from_directory is used to load the images from the directory\n",
    "            directory=self.config.training_data,#same directory as above\n",
    "            subset=\"validation\",#this is used for validation purpose 20%\n",
    "            shuffle=False,\n",
    "            **dataflow_kwargs\n",
    "        )\n",
    "\n",
    "        if self.config.params_is_augmentation:\n",
    "            train_datagenerator = tf.keras.preprocessing.image.ImageDataGenerator(\n",
    "                rotation_range=40,#randomly rotate images in the range (degrees, 0 to 180) \n",
    "                horizontal_flip=True,#randomly flip images\n",
    "                width_shift_range=0.2,#randomly translate images horizontally (fraction of total width)\n",
    "                height_shift_range=0.2,#randomly translate images vertically (fraction of total height)\n",
    "                shear_range=0.2,#set range for random shear\n",
    "                zoom_range=0.2,\n",
    "                **datagenerator_kwargs\n",
    "            ) #it helps to your CNN model gneralize better by creating slightly modified versions of the same image.\n",
    "        else:\n",
    "            train_datagenerator = valid_datagenerator\n",
    "\n",
    "        self.train_generator = train_datagenerator.flow_from_directory(#, flow_from_directory is used to load the images from the directory\n",
    "            directory=self.config.training_data,#same directory as above\n",
    "            subset=\"training\",#this is used for training purpose 80%\n",
    "            shuffle=True,#shuffle the data\n",
    "            **dataflow_kwargs #unpacking the dictionary\n",
    "        )\n",
    "\n",
    "    \n",
    "    @staticmethod #static method is used to define a method that doesn't operate on an instance of the class\n",
    "    def save_model(path: Path, model: tf.keras.Model):\n",
    "        model.save(f\"{path}.h5\")\n",
    "\n",
    "\n",
    "\n",
    "    \n",
    "    def train(self):\n",
    "        #// (floor division) is used to get the integer value(remove decimal value)\n",
    "        self.steps_per_epoch = self.train_generator.samples // self.train_generator.batch_size #number of steps per epoch\n",
    "        self.validation_steps = self.valid_generator.samples // self.valid_generator.batch_size#number of validation steps\n",
    "\n",
    "        self.model.fit(#fit is used to train the model\n",
    "            self.train_generator,\n",
    "            epochs=self.config.params_epochs,\n",
    "            steps_per_epoch=self.steps_per_epoch,\n",
    "            validation_steps=self.validation_steps,\n",
    "            validation_data=self.valid_generator\n",
    "        )\n",
    "\n",
    "        self.save_model(\n",
    "            path=self.config.trained_model_path,\n",
    "            model=self.model\n",
    "        )\n",
    "\n"
   ]
  },
  {
   "cell_type": "code",
   "execution_count": 30,
   "id": "e6e55c5b",
   "metadata": {},
   "outputs": [
    {
     "name": "stdout",
     "output_type": "stream",
     "text": [
      "[2025-10-04 09:06:43,369: INFO: common: yaml file: config\\config.yaml loaded successfully]\n",
      "[2025-10-04 09:06:43,379: INFO: common: yaml file: params.yaml loaded successfully]\n",
      "[2025-10-04 09:06:43,385: INFO: common: created directory at: artifacts]\n",
      "[2025-10-04 09:06:43,390: INFO: common: created directory at: artifacts\\model_training]\n"
     ]
    },
    {
     "name": "stdout",
     "output_type": "stream",
     "text": [
      "Found 93 images belonging to 2 classes.\n",
      "Found 372 images belonging to 2 classes.\n",
      "23/23 [==============================] - 879s 38s/step - loss: 11.0643 - accuracy: 0.5955 - val_loss: 9.6432 - val_accuracy: 0.4375\n",
      "[2025-10-04 09:21:32,907: WARNING: save: Found untraced functions such as _jit_compiled_convolution_op, _jit_compiled_convolution_op, _jit_compiled_convolution_op, _jit_compiled_convolution_op, _jit_compiled_convolution_op while saving (showing 5 of 14). These functions will not be directly callable after loading.]\n",
      "[2025-10-04 09:21:36,698: INFO: builder_impl: Assets written to: artifacts\\model_training\\assets]\n"
     ]
    }
   ],
   "source": [
    "try:\n",
    "    config = ConfigurationManager()\n",
    "    training_config = config.get_training_config()\n",
    "    training = Training(config=training_config)\n",
    "    training.get_base_model()\n",
    "    training.train_valid_generator()\n",
    "    training.train()\n",
    "    \n",
    "except Exception as e:\n",
    "    raise e\n"
   ]
  },
  {
   "cell_type": "code",
   "execution_count": null,
   "id": "57b97692",
   "metadata": {},
   "outputs": [],
   "source": []
  },
  {
   "cell_type": "code",
   "execution_count": null,
   "id": "0510c233",
   "metadata": {},
   "outputs": [],
   "source": []
  }
 ],
 "metadata": {
  "kernelspec": {
   "display_name": "kidney",
   "language": "python",
   "name": "python3"
  },
  "language_info": {
   "codemirror_mode": {
    "name": "ipython",
    "version": 3
   },
   "file_extension": ".py",
   "mimetype": "text/x-python",
   "name": "python",
   "nbconvert_exporter": "python",
   "pygments_lexer": "ipython3",
   "version": "3.11.13"
  }
 },
 "nbformat": 4,
 "nbformat_minor": 5
}
