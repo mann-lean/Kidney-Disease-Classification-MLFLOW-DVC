{
 "cells": [
  {
   "cell_type": "markdown",
   "id": "e6eeced7",
   "metadata": {},
   "source": [
    "### Download data from GDrive"
   ]
  },
  {
   "cell_type": "code",
   "execution_count": 2,
   "id": "c8d8a0f0",
   "metadata": {},
   "outputs": [],
   "source": [
    "import gdown"
   ]
  },
  {
   "cell_type": "code",
   "execution_count": 7,
   "id": "3280fcdd",
   "metadata": {},
   "outputs": [],
   "source": [
    "# url=\"https://drive.google.com/file/d/1nmASSimPABKAsKslDjyLQfHpo8a1dGtk/view?usp=drive_link\"\n",
    "url=\"https://drive.google.com/file/d/1vlhZ5c7abUKF8xXERIw6m9Te8fW7ohw3/view\""
   ]
  },
  {
   "cell_type": "code",
   "execution_count": 8,
   "id": "9e85d774",
   "metadata": {},
   "outputs": [
    {
     "data": {
      "text/plain": [
       "'1vlhZ5c7abUKF8xXERIw6m9Te8fW7ohw3'"
      ]
     },
     "execution_count": 8,
     "metadata": {},
     "output_type": "execute_result"
    }
   ],
   "source": [
    "file_id=url.split('/')[-2]\n",
    "file_id"
   ]
  },
  {
   "cell_type": "code",
   "execution_count": 9,
   "id": "0e477e80",
   "metadata": {},
   "outputs": [
    {
     "name": "stderr",
     "output_type": "stream",
     "text": [
      "Downloading...\n",
      "From (original): https://drive.google.com/uc?/export=download&id=1vlhZ5c7abUKF8xXERIw6m9Te8fW7ohw3\n",
      "From (redirected): https://drive.google.com/uc?%2Fexport=download&id=1vlhZ5c7abUKF8xXERIw6m9Te8fW7ohw3&confirm=t&uuid=c0c7873c-c274-4625-a2ef-9def453d2fa5\n",
      "To: e:\\Immediate watch\\September\\end to end DEEP learning Kindey project\\CodeME\\Kidney-Disease-Classification-MLFLOW-DVC\\research\\KidneyCTScanData.zip\n",
      "100%|██████████| 57.7M/57.7M [00:09<00:00, 6.12MB/s]\n"
     ]
    },
    {
     "data": {
      "text/plain": [
       "'KidneyCTScanData.zip'"
      ]
     },
     "execution_count": 9,
     "metadata": {},
     "output_type": "execute_result"
    }
   ],
   "source": [
    "prefix = 'https://drive.google.com/uc?/export=download&id='\n",
    "gdown.download(prefix+file_id,\"KidneyCTScanData.zip\")"
   ]
  },
  {
   "cell_type": "code",
   "execution_count": null,
   "id": "40b48808",
   "metadata": {},
   "outputs": [],
   "source": []
  }
 ],
 "metadata": {
  "kernelspec": {
   "display_name": "kidney",
   "language": "python",
   "name": "python3"
  },
  "language_info": {
   "codemirror_mode": {
    "name": "ipython",
    "version": 3
   },
   "file_extension": ".py",
   "mimetype": "text/x-python",
   "name": "python",
   "nbconvert_exporter": "python",
   "pygments_lexer": "ipython3",
   "version": "3.11.13"
  }
 },
 "nbformat": 4,
 "nbformat_minor": 5
}
